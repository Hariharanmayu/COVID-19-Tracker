{
 "cells": [
  {
   "cell_type": "code",
   "execution_count": 1,
   "metadata": {},
   "outputs": [],
   "source": [
    "import numpy as np\n",
    "import pandas as pd\n",
    "import matplotlib.pyplot as plt\n",
    "from bs4 import BeautifulSoup\n",
    "from geopy.geocoders import Nominatim\n",
    "import requests\n",
    "import json\n",
    "import folium\n",
    "import pgeocode\n",
    "import datetime"
   ]
  },
  {
   "cell_type": "code",
   "execution_count": 3,
   "metadata": {},
   "outputs": [
    {
     "name": "stdout",
     "output_type": "stream",
     "text": [
      "Index(['Country', 'CountryCode', 'Slug', 'NewConfirmed', 'TotalConfirmed',\n",
      "       'NewDeaths', 'TotalDeaths', 'NewRecovered', 'TotalRecovered', 'Date',\n",
      "       'Premium'],\n",
      "      dtype='object')\n"
     ]
    }
   ],
   "source": [
    "def read_covid_data():\n",
    "    global latitude, longtitude, newly_confirmed_10, covid_data_frame\n",
    "    longtitude = []\n",
    "    latitude = []\n",
    "    location_code = []\n",
    "\n",
    "    base_url = \"https://api.covid19api.com/summary\"\n",
    "    base_page = requests.get(base_url)\n",
    "\n",
    "    covid_data = BeautifulSoup(base_page.content, 'html.parser')\n",
    "    covid_json_data = json.loads(str(covid_data))\n",
    "\n",
    "    covid_data_frame = pd.DataFrame.from_dict(covid_json_data['Countries'])\n",
    "    covid_data_frame.set_index(keys = ['Country'], inplace = True, drop = False)\n",
    "    newly_confirmed_10 = covid_data_frame.nlargest(10, \"NewConfirmed\")\n",
    "    \n",
    "    for country in newly_confirmed_10.CountryCode:\n",
    "        geolocator = geolocator = Nominatim(user_agent = \"Covid_world_wide_data\")\n",
    "        location = geolocator.geocode(country)\n",
    "        latitude.append(location.latitude)\n",
    "        longtitude.append(location.longitude)\n",
    "\n",
    "    print(covid_data_frame.columns)\n",
    "        \n",
    "read_covid_data()"
   ]
  },
  {
   "cell_type": "code",
   "execution_count": null,
   "metadata": {},
   "outputs": [],
   "source": [
    "def total_confirmed(total_confirmed_covid_cases):\n",
    "    x_axis = list(total_confirmed_covid_cases['Country'])\n",
    "    y_axis = list(total_confirmed_covid_cases['TotalConfirmed'])\n",
    "    plt.rcdefaults()\n",
    "    fix, ax = plt.subplots()\n",
    "\n",
    "    ax.barh(x_axis,y_axis, align='center', color = 'green', data = y_axis)\n",
    "    plt.xticks(rotation=45)\n",
    "    ax.invert_yaxis()\n",
    "    ax.set_xlabel('Number of COVID 19 Cases')\n",
    "    ax.set_title('Conformed COVID Cases across the World')\n",
    "    for i, v in enumerate(y_axis):\n",
    "        ax.text(v + 3, i + .15, str(v), color='green', fontweight='bold')\n",
    "    plt.show()\n",
    "total_confirmed(covid_data_frame.nlargest(10,'TotalConfirmed'))"
   ]
  },
  {
   "cell_type": "code",
   "execution_count": null,
   "metadata": {},
   "outputs": [],
   "source": [
    "def newly_confirmed():\n",
    "    global m\n",
    "    newly_confirmed_covid = pd.DataFrame({'latitude' : latitude,\n",
    "                                        'longtitude' : longtitude,\n",
    "                                         'country' : (newly_confirmed_10.Country).to_list(),\n",
    "                                         'Newly_confirmed' : list(newly_confirmed_10.NewConfirmed)})\n",
    "    m = folium.Map(location = [90, -90],\n",
    "                    zoom_start = 2)\n",
    "    \n",
    "    for i in range(0,10):\n",
    "       folium.Circle(\n",
    "          location=[float(newly_confirmed_covid.iloc[i]['latitude']), float(newly_confirmed_covid.iloc[i]['longtitude'])],\n",
    "          popup=str(newly_confirmed_covid.iloc[i]['country'])+\" newly confirmed \"+ str(newly_confirmed_covid.iloc[i]['Newly_confirmed']*10),\n",
    "          radius=int(newly_confirmed_covid.iloc[i]['Newly_confirmed']*10),\n",
    "          color='crimson',\n",
    "          fill=True,\n",
    "          fill_color='crimson'\n",
    "       ).add_to(m)\n",
    "    print(newly_confirmed_covid)\n",
    "    \n",
    "newly_confirmed()"
   ]
  },
  {
   "cell_type": "code",
   "execution_count": null,
   "metadata": {},
   "outputs": [],
   "source": [
    "m"
   ]
  },
  {
   "cell_type": "code",
   "execution_count": null,
   "metadata": {},
   "outputs": [],
   "source": [
    "def india_covid_cases():\n",
    "    base_url = \"https://api.covid19api.com/total/dayone/country/india/status/confirmed\"\n",
    "    month = ['Jan', 'Feb', 'Mar', 'Apr', 'May', 'June', 'July', 'Aug', 'Sep', 'Oct', 'Nov', 'Dec']\n",
    "    base_india_covid_data = requests.get(base_url)\n",
    "    base_india_covid_data = BeautifulSoup(base_india_covid_data.content,'html.parser')\n",
    "    india_covid_data_json = json.loads(str(base_india_covid_data))\n",
    "    india_covid_dataframe = pd.DataFrame.from_dict(india_covid_data_json)\n",
    "    \n",
    "    #print(india_covid_dataframe.head())\n",
    "    \n",
    "    india_covid_dataframe.Date = pd.to_datetime(india_covid_dataframe.Date, dayfirst = True)\n",
    "    \n",
    "    india_covid_dataframe['Year'] = pd.DatetimeIndex(india_covid_dataframe['Date']).year\n",
    "    india_covid_dataframe['Month'] = pd.DatetimeIndex(india_covid_dataframe['Date']).month\n",
    "    month_wise_covid_data = india_covid_dataframe.groupby(by = ['Month', 'Year']).sum()\n",
    "    month_wise_covid_data[\"Country\"] = india_covid_dataframe.Country[0]\n",
    "    \n",
    "    Month_Year = []\n",
    "    for month, year in month_wise_covid_data.index:\n",
    "        Month_Year.append(str(month)+\"-\"+str(year))\n",
    "    \n",
    "    month_wise_covid_data['Month_Year'] = Month_Year\n",
    "    print(month_wise_covid_data)\n",
    "    plt.figure(figsize = [30,10])\n",
    "    plt.subplot(1,1,1)\n",
    "    plt.plot(month_wise_covid_data['Month_Year'], month_wise_covid_data['Cases'])\n",
    "    plt.ylabel(\"Number of caese in India\")\n",
    "    plt.xlabel(\"Date\")\n",
    "    plt.xticks(rotation = 'vertical')\n",
    "    plt.title(\"Number of covid-19 cases in India\")\n",
    "\n",
    "india_covid_cases()"
   ]
  },
  {
   "cell_type": "code",
   "execution_count": null,
   "metadata": {},
   "outputs": [],
   "source": []
  }
 ],
 "metadata": {
  "kernelspec": {
   "display_name": "Python 3",
   "language": "python",
   "name": "python3"
  },
  "language_info": {
   "codemirror_mode": {
    "name": "ipython",
    "version": 3
   },
   "file_extension": ".py",
   "mimetype": "text/x-python",
   "name": "python",
   "nbconvert_exporter": "python",
   "pygments_lexer": "ipython3",
   "version": "3.7.4"
  }
 },
 "nbformat": 4,
 "nbformat_minor": 4
}
